{
 "cells": [
  {
   "cell_type": "code",
   "execution_count": 2,
   "metadata": {},
   "outputs": [],
   "source": [
    "import pandas as pd\n",
    "\n"
   ]
  },
  {
   "cell_type": "code",
   "execution_count": 3,
   "metadata": {},
   "outputs": [
    {
     "name": "stdout",
     "output_type": "stream",
     "text": [
      "           Name  Age       Class  Score\n",
      "0  Nguyen Van A   22      Python     85\n",
      "1    Tran Thi B   21  JavaScript     90\n",
      "2      Le Van C   23      Python     78\n",
      "3    Pham Thi D   20  JavaScript     88\n",
      "4   Hoang Van E   22      Python     95\n",
      "5      Do Thi F   24  JavaScript     82\n",
      "6     Bui Van G   23      Python     91\n",
      "7  Nguyen Thi H   22  JavaScript     79\n",
      "8      Le Van I   21      Python     86\n",
      "9    Tran Van J   20  JavaScript     84\n"
     ]
    }
   ],
   "source": [
    "\n",
    "data = {\n",
    "    'Name': ['Nguyen Van A', 'Tran Thi B', 'Le Van C', 'Pham Thi D', 'Hoang Van E',\n",
    "             'Do Thi F', 'Bui Van G', 'Nguyen Thi H', 'Le Van I', 'Tran Van J'],\n",
    "    'Age': [22, 21, 23, 20, 22, 24, 23, 22, 21, 20],\n",
    "    'Class': ['Python', 'JavaScript', 'Python', 'JavaScript', 'Python', \n",
    "              'JavaScript', 'Python', 'JavaScript', 'Python', 'JavaScript'],\n",
    "    'Score': [85, 90, 78, 88, 95, 82, 91, 79, 86, 84]\n",
    "}\n",
    "df = pd.DataFrame(data)\n",
    "print(df)\n"
   ]
  },
  {
   "cell_type": "code",
   "execution_count": 5,
   "metadata": {},
   "outputs": [
    {
     "name": "stdout",
     "output_type": "stream",
     "text": [
      "<class 'pandas.core.frame.DataFrame'>\n",
      "RangeIndex: 10 entries, 0 to 9\n",
      "Data columns (total 4 columns):\n",
      " #   Column  Non-Null Count  Dtype \n",
      "---  ------  --------------  ----- \n",
      " 0   Name    10 non-null     object\n",
      " 1   Age     10 non-null     int64 \n",
      " 2   Class   10 non-null     object\n",
      " 3   Score   10 non-null     int64 \n",
      "dtypes: int64(2), object(2)\n",
      "memory usage: 452.0+ bytes\n"
     ]
    }
   ],
   "source": [
    "df.info()\n"
   ]
  },
  {
   "cell_type": "code",
   "execution_count": 6,
   "metadata": {},
   "outputs": [
    {
     "name": "stdout",
     "output_type": "stream",
     "text": [
      "Name     object\n",
      "Age       int64\n",
      "Class    object\n",
      "Score     int64\n",
      "dtype: object\n"
     ]
    }
   ],
   "source": [
    "print(df.dtypes)\n"
   ]
  },
  {
   "cell_type": "code",
   "execution_count": 7,
   "metadata": {},
   "outputs": [
    {
     "name": "stdout",
     "output_type": "stream",
     "text": [
      "0    22\n",
      "1    21\n",
      "2    23\n",
      "3    20\n",
      "4    22\n",
      "5    24\n",
      "6    23\n",
      "7    22\n",
      "8    21\n",
      "9    20\n",
      "Name: Age, dtype: int64\n"
     ]
    }
   ],
   "source": [
    "ages = df['Age']\n",
    "print(ages)\n"
   ]
  },
  {
   "cell_type": "code",
   "execution_count": null,
   "metadata": {},
   "outputs": [],
   "source": [
    "# Tìm học viên có tên \"Hoang Van E\" và lớp \"Python\"\n",
    "hoang_van_e = df[(df['Name'] == 'Hoang Van E') & (df['Class'] == 'Python')]\n",
    "print(hoang_van_e)\n"
   ]
  }
 ],
 "metadata": {
  "kernelspec": {
   "display_name": "Python 3",
   "language": "python",
   "name": "python3"
  },
  "language_info": {
   "codemirror_mode": {
    "name": "ipython",
    "version": 3
   },
   "file_extension": ".py",
   "mimetype": "text/x-python",
   "name": "python",
   "nbconvert_exporter": "python",
   "pygments_lexer": "ipython3",
   "version": "3.12.3"
  }
 },
 "nbformat": 4,
 "nbformat_minor": 2
}
